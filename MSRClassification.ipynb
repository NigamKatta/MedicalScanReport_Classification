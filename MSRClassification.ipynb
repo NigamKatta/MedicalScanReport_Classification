{
  "cells": [
    {
      "cell_type": "markdown",
      "metadata": {},
      "source": [
        "### Importing the required libraries"
      ]
    },
    {
      "cell_type": "markdown",
      "metadata": {},
      "source": [
        "Situation: Using the CNN's I am trying to do a classification. "
      ]
    },
    {
      "cell_type": "code",
      "execution_count": null,
      "metadata": {
        "id": "EoE9WbPhPKIw"
      },
      "outputs": [],
      "source": [
        "import os\n",
        "import numpy as np\n",
        "import cv2\n",
        "import torch\n",
        "import torch.nn as nn\n",
        "import torch.optim as optim\n",
        "from PIL import Image\n",
        "from torch.utils.data import DataLoader, random_split, Dataset\n",
        "from torch.utils.data import Dataset\n",
        "from torchvision import transforms\n",
        "from torchvision.transforms import ToTensor\n",
        "import matplotlib.pyplot as plt\n",
        "import random\n",
        "from sklearn.metrics import f1_score, confusion_matrix, precision_score, recall_score \n",
        "from torchsummary import summary"
      ]
    },
    {
      "cell_type": "markdown",
      "metadata": {
        "id": "tg3wCcwJ046m"
      },
      "source": [
        "Model\n"
      ]
    },
    {
      "cell_type": "code",
      "execution_count": null,
      "metadata": {
        "colab": {
          "base_uri": "https://localhost:8080/"
        },
        "id": "EHoHRy0j06Tz",
        "outputId": "de07dce6-3bad-48c8-e0ad-e3c666360ee9"
      },
      "outputs": [
        {
          "name": "stdout",
          "output_type": "stream",
          "text": [
            "Using cpu device\n"
          ]
        }
      ],
      "source": [
        "device = \"cuda\" if torch.cuda.is_available() else \"cpu\"\n",
        "print(f\"Using {device} device\")"
      ]
    },
    {
      "cell_type": "code",
      "execution_count": null,
      "metadata": {
        "id": "RRSC_sAd76C4"
      },
      "outputs": [],
      "source": [
        "#Declaring the transform for each image (Convert to Tensor and Normalize)\n",
        "toTensor = transforms.Compose([\n",
        "    transforms.ToTensor(),\n",
        "    transforms.Normalize((0.0), (1.0))\n",
        "])\n"
      ]
    },
    {
      "cell_type": "code",
      "execution_count": null,
      "metadata": {
        "id": "G5wAh0gNW7p5"
      },
      "outputs": [],
      "source": [
        "#Declaring a CustomDataset class\n",
        "class CustomDataset(Dataset):\n",
        "    #Based on the root directory address shuffling the images in each folder and loading 1000 from each class folder.\n",
        "    def __init__(self, rootDir, num_images_per_class, toTensor):\n",
        "        self.dataset_dir = rootDir\n",
        "        self.num_images_per_class = num_images_per_class\n",
        "        self.imagePaths = []\n",
        "        self.labels = []\n",
        "        self.toTensor = toTensor\n",
        "        self.classesName = [\"Hand\", \"BreastMRI\", \"ChestCT\", \"HeadCT\", \"AbdomenCT\", \"CXR\" ]\n",
        "        class_folders = os.listdir(rootDir)\n",
        "        #loop to load over class folders\n",
        "        for label, classFolder in enumerate(class_folders):\n",
        "            classPath = os.path.join(rootDir, classFolder)\n",
        "            imageFiles = os.listdir(classPath)\n",
        "            random.shuffle(imageFiles)\n",
        "\n",
        "            #Creating the path for images in individual class folders\n",
        "            for i in range(num_images_per_class):\n",
        "                imagePath = os.path.join(classPath, imageFiles[i])\n",
        "                self.imagePaths.append(imagePath)\n",
        "                self.labels.append(label)\n",
        "\n",
        "    #method to read the images based on the path created above using os library.\n",
        "    def __getitem__(self, index):\n",
        "        imagePath = self.imagePaths[index]\n",
        "        label = self.labels[index]\n",
        "        image1 = cv2.imread(imagePath) #Reading in the image using OPENCV LIB.\n",
        "        image2 = cv2.cvtColor(image1, cv2.COLOR_BGR2RGB)\n",
        "        image =  self.toTensor(image1) #Using totensor created above to transform each image\n",
        "        label = torch.tensor(label) \n",
        "        return image, label\n",
        "\n",
        "    def __len__(self):\n",
        "        return len(self.imagePaths)\n",
        "\n",
        "    #Creating a method to display a image from each class.\n",
        "    def display(self):\n",
        "        fig, axes = plt.subplots(nrows=len(set(self.labels)), ncols=1, figsize=(6, 10))\n",
        "        for label in range(len(set(self.labels))):\n",
        "            # Select a random image from the current class\n",
        "            indices = np.where(np.array(self.labels) == label)[0]\n",
        "            index = np.random.choice(indices)\n",
        "            \n",
        "            # Load and display the image\n",
        "            imagePath = self.imagePaths[index]\n",
        "            image1 = cv2.imread(imagePath)\n",
        "            image2 = cv2.cvtColor(image1, cv2.COLOR_BGR2RGB)\n",
        "            axes[label].imshow(image2)\n",
        "            axes[label].set_title(f\"Class {self.classesName[label]}\")\n",
        "            axes[label].axis(\"off\")\n",
        "\n",
        "        #Plotting the images    \n",
        "        plt.tight_layout()\n",
        "        plt.show()\n"
      ]
    },
    {
      "cell_type": "code",
      "execution_count": null,
      "metadata": {
        "id": "DbL2afavBi6B"
      },
      "outputs": [],
      "source": [
        "#Declaring the Root directory to get the MNIst dataset from google drive\n",
        "rootDir = '/content/drive/MyDrive/BMED/MedNIST_dataset'\n",
        "\n",
        "#Creating a Class Object of CustomDataset\n",
        "Dataset = CustomDataset(rootDir, 1000, toTensor)"
      ]
    },
    {
      "cell_type": "code",
      "execution_count": null,
      "metadata": {
        "colab": {
          "base_uri": "https://localhost:8080/",
          "height": 729
        },
        "id": "asH6Fv4CCr3A",
        "outputId": "e38714cf-c6d3-4fde-8f0d-bb4a1a6a3fb7"
      },
      "outputs": [
        {
          "data": {
            "image/png": "[encoded data removed]",
            "text/plain": [
              "<Figure size 432x720 with 6 Axes>"
            ]
          },
          "metadata": {
            "needs_background": "light"
          },
          "output_type": "display_data"
        }
      ],
      "source": [
        "#Displaying the Images\n",
        "Dataset.display()"
      ]
    },
    {
      "cell_type": "code",
      "execution_count": null,
      "metadata": {
        "id": "eQmMm6tsb9yM"
      },
      "outputs": [],
      "source": [
        "#Using randomSplit spliting the dataset into train and test\n",
        "trainData, testData = random_split(Dataset, [4200, 1800])\n",
        "\n",
        "#Declaring hyper-parameters\n",
        "numClasses = 6\n",
        "learningRate = 0.001\n",
        "numEpochs = 10\n",
        "batchSize = 16"
      ]
    },
    {
      "cell_type": "code",
      "execution_count": null,
      "metadata": {
        "id": "jv8ml5gseAX_"
      },
      "outputs": [],
      "source": [
        "#Declaring the Dataloaders for train and test.\n",
        "trainDataLoader = DataLoader(trainData, batch_size = batchSize,  shuffle = True)\n",
        "testDataLoader = DataLoader(testData, batch_size = batchSize,  shuffle = True)"
      ]
    },
    {
      "cell_type": "markdown",
      "metadata": {
        "id": "pEz5TkWPRuZC"
      },
      "source": [
        "1(B)"
      ]
    },
    {
      "cell_type": "code",
      "execution_count": null,
      "metadata": {
        "id": "rRglSBXo0_au"
      },
      "outputs": [],
      "source": [
        "#Declaring Custom Network based on the instructions\n",
        "class CustomNetwork(torch.nn.Module):\n",
        "    def __init__(self):\n",
        "        super(CustomNetwork, self).__init__()\n",
        "        self.conv1 = nn.Conv2d(in_channels=3, out_channels=32, kernel_size=3, stride=1, padding=1) #Conv Layer\n",
        "        self.relu1 = nn.ReLU() #Relu Layer\n",
        "        self.pool1 = nn.MaxPool2d(kernel_size=2, stride=2) #MaxPool layer\n",
        "        self.conv2 = nn.Conv2d(in_channels=32, out_channels=64, kernel_size=3, stride=1, padding=1) #Conv layer\n",
        "        self.relu2 = nn.ReLU() #Relu Layer\n",
        "        self.pool2 = nn.MaxPool2d(kernel_size=2, stride=2)  #MaxPool layer\n",
        "        self.fc1 = nn.LazyLinear(128) #FC Layer\n",
        "        self.relu3 = nn.ReLU() #Relu Layer\n",
        "        self.fc2 = nn.LazyLinear(64) #FC Layer\n",
        "        self.relu4 = nn.ReLU() #Relu Layer\n",
        "        self.fc3 = nn.LazyLinear(6) #FC Layer\n",
        "        self.softmax = nn.Softmax(dim=1) #Softmax to calcuate the probabilities\n",
        "\n",
        "    def forward(self, inputImage):\n",
        "        #Creating the network forward method\n",
        "        x = self.conv1(inputImage)\n",
        "        x = self.relu1(x)\n",
        "        x = self.pool1(x)\n",
        "        x = self.conv2(x)\n",
        "        x = self.relu2(x)\n",
        "        x = self.pool2(x)\n",
        "        x = torch.flatten(x,1)\n",
        "        x = self.fc1(x)\n",
        "        x = self.relu3(x)\n",
        "        x = self.fc2(x)\n",
        "        x = self.relu4(x)\n",
        "        x = self.fc3(x)\n",
        "        x = self.softmax(x)\n",
        "        return x"
      ]
    },
    {
      "cell_type": "code",
      "execution_count": null,
      "metadata": {
        "colab": {
          "base_uri": "https://localhost:8080/"
        },
        "id": "8s4tr_CvvI6O",
        "outputId": "be4f1b19-f403-40d4-d97c-3796010a6a59"
      },
      "outputs": [
        {
          "name": "stdout",
          "output_type": "stream",
          "text": [
            "CustomNetwork(\n",
            "  (conv1): Conv2d(3, 32, kernel_size=(3, 3), stride=(1, 1), padding=(1, 1))\n",
            "  (relu1): ReLU()\n",
            "  (pool1): MaxPool2d(kernel_size=2, stride=2, padding=0, dilation=1, ceil_mode=False)\n",
            "  (conv2): Conv2d(32, 64, kernel_size=(3, 3), stride=(1, 1), padding=(1, 1))\n",
            "  (relu2): ReLU()\n",
            "  (pool2): MaxPool2d(kernel_size=2, stride=2, padding=0, dilation=1, ceil_mode=False)\n",
            "  (fc1): LazyLinear(in_features=0, out_features=128, bias=True)\n",
            "  (relu3): ReLU()\n",
            "  (fc2): LazyLinear(in_features=0, out_features=64, bias=True)\n",
            "  (relu4): ReLU()\n",
            "  (fc3): LazyLinear(in_features=0, out_features=6, bias=True)\n",
            "  (softmax): Softmax(dim=1)\n",
            ")\n"
          ]
        }
      ],
      "source": [
        "#Declaring the model object from created custom network class\n",
        "model = CustomNetwork()\n",
        "print(model) #Priting the model"
      ]
    },
    {
      "cell_type": "markdown",
      "metadata": {
        "id": "sIM6J6SKRz7B"
      },
      "source": [
        "1(C)"
      ]
    },
    {
      "cell_type": "code",
      "execution_count": null,
      "metadata": {
        "colab": {
          "base_uri": "https://localhost:8080/"
        },
        "id": "4u5S1my_2hpK",
        "outputId": "56d45227-f873-458e-8436-542531a5d6e3"
      },
      "outputs": [
        {
          "name": "stdout",
          "output_type": "stream",
          "text": [
            "Epoch:0; train_acc:66.83333333333333; train_loss0.08604626292274112\n",
            "Epoch:0; test_acc:60.72222222222222; test_loss0.09014746540122562\n",
            "Epoch:1; train_acc:67.28571428571429; train_loss0.08578507982549213\n",
            "Epoch:1; test_acc:81.0; test_loss0.07737149000167846\n",
            "Epoch:2; train_acc:81.30952380952381; train_loss0.07706728841577258\n",
            "Epoch:2; test_acc:82.11111111111111; test_loss0.07677015331056383\n",
            "Epoch:3; train_acc:83.04761904761905; train_loss0.07593627574897947\n",
            "Epoch:3; test_acc:98.88888888888889; test_loss0.06634358108043671\n",
            "Epoch:4; train_acc:98.11904761904762; train_loss0.06658242574759891\n",
            "Epoch:4; test_acc:99.27777777777777; test_loss0.06603068749109904\n",
            "Epoch:5; train_acc:99.02380952380952; train_loss0.06600901686009907\n",
            "Epoch:5; test_acc:99.27777777777777; test_loss0.06599718146853976\n",
            "Epoch:6; train_acc:99.5; train_loss0.06567916699818202\n",
            "Epoch:6; test_acc:99.77777777777777; test_loss0.06570289923085107\n",
            "Epoch:7; train_acc:98.92857142857143; train_loss0.06601092366945176\n",
            "Epoch:7; test_acc:99.33333333333333; test_loss0.0659211309088601\n",
            "Epoch:8; train_acc:99.61904761904762; train_loss0.06558166086673736\n",
            "Epoch:8; test_acc:99.16666666666667; test_loss0.06602620608276791\n",
            "Epoch:9; train_acc:99.14285714285714; train_loss0.06585409411362239\n",
            "Epoch:9; test_acc:99.61111111111111; test_loss0.06573843426174587\n"
          ]
        }
      ],
      "source": [
        "# Define the model, loss function, and optimizer\n",
        "model.to(device)\n",
        "criterion = nn.CrossEntropyLoss()\n",
        "optimizer = optim.Adam(model.parameters(), lr=learningRate)\n",
        "\n",
        "best_val_loss = float('inf')\n",
        "best_val_acc = 0.0\n",
        "\n",
        "train_loss_list = []\n",
        "test_loss_list = []\n",
        "train_acc_list = []\n",
        "test_acc_list = []\n",
        "for epoch in range(numEpochs):\n",
        "    train_loss = 0.0\n",
        "    total = 0\n",
        "    correct = 0\n",
        "    y_true = []\n",
        "    y_pred = []\n",
        "    model.train()\n",
        "    for i, (images, labels) in enumerate(trainDataLoader):\n",
        "        # Forward pass\n",
        "        outputs = model(images)\n",
        "        loss = criterion(outputs, labels)\n",
        "        \n",
        "        # Backward and optimize\n",
        "        optimizer.zero_grad()\n",
        "        loss.backward()\n",
        "        optimizer.step()\n",
        "        \n",
        "        # Calculate accuracy and F1 score\n",
        "        total += labels.size(0)\n",
        "        _, predicted = torch.max(outputs.data, 1)\n",
        "        correct += (predicted == labels).sum().item()\n",
        "        y_true += labels.tolist()\n",
        "        y_pred += predicted.tolist()        \n",
        "        train_loss += loss.item()\n",
        "        \n",
        "        \n",
        "    train_loss = train_loss / len(trainData)\n",
        "    train_acc = 100 * correct / total\n",
        "    train_loss_list.append(train_loss) # Calculating the Train loss\n",
        "    train_acc_list.append(train_acc) # Calculating the Train Accuracy\n",
        "    print(f\"Epoch:{epoch}; train_acc:{train_acc}; train_loss{train_loss}\")\n",
        "\n",
        "    # Evaluate model on test set\n",
        "    model.eval()\n",
        "    with torch.no_grad():\n",
        "        test_loss = 0.0\n",
        "        total = 0\n",
        "        correct = 0\n",
        "        y_true = []\n",
        "        y_pred = []\n",
        "        for images, labels in testDataLoader:            \n",
        "            # Forward pass\n",
        "            outputs = model(images)\n",
        "            loss = criterion(outputs, labels)\n",
        "            \n",
        "            # Calculate accuracy and F1 score\n",
        "            total += labels.size(0)\n",
        "            _, predicted = torch.max(outputs.data, 1)\n",
        "            correct += (predicted == labels).sum().item() #Calculating the no.of correct o/ps\n",
        "            y_true += labels.tolist()\n",
        "            y_pred += predicted.tolist()\n",
        "            test_loss += loss.item()\n",
        "        \n",
        "        test_loss = test_loss / len(testData) #Calculating the Test loss\n",
        "        test_acc = 100 * correct / total #Calculating the Test Accuracy\n",
        "        print(f\"Epoch:{epoch}; test_acc:{test_acc}; test_loss{test_loss}\")\n"
      ]
    },
    {
      "cell_type": "markdown",
      "metadata": {
        "id": "zMtoAaoBR24V"
      },
      "source": [
        "1(D) Plotting the train and test loss below using matplot"
      ]
    },
    {
      "cell_type": "code",
      "execution_count": null,
      "metadata": {
        "colab": {
          "base_uri": "https://localhost:8080/"
        },
        "id": "vtNXqRJC4fIS",
        "outputId": "9031db3c-c251-445c-cd9b-da745c9937dc"
      },
      "outputs": [
        {
          "name": "stdout",
          "output_type": "stream",
          "text": [
            "81.0\n"
          ]
        }
      ],
      "source": [
        "import matplotlib.pyplot as plt\n",
        "\n",
        "plt.plot(range(numEpochs), train_loss_list, label='Training loss')\n",
        "plt.plot(range(numEpochs), test_loss_list, label='Testing loss')\n",
        "plt.xlabel('Epoch')\n",
        "plt.ylabel('Loss')\n",
        "plt.legend()\n",
        "plt.show()"
      ]
    },
    {
      "cell_type": "markdown",
      "metadata": {
        "id": "2Z3tIYwtSBSo"
      },
      "source": [
        "Calculating the metrics from the outputs obtained from the model output."
      ]
    },
    {
      "cell_type": "code",
      "execution_count": null,
      "metadata": {
        "id": "p2PZIRQSJEyo"
      },
      "outputs": [],
      "source": [
        "conf_mat = confusion_matrix(y_true, y_pred)\n",
        "precision = precision_score(y_true, y_pred, average='macro')\n",
        "recall = recall_score(y_true, y_pred, average='macro')\n",
        "f1 = f1_score(y_true, y_pred, average='macro')\n",
        "test_acc_list.append(test_acc)\n",
        "test_loss_list.append(test_loss)        \n",
        "print('Confusion matrix:', conf_mat)\n",
        "print('Precision:', precision)\n",
        "print('Recall:', recall)\n",
        "print('F1 score:', f1)"
      ]
    }
  ],
  "metadata": {
    "colab": {
      "provenance": []
    },
    "gpuClass": "standard",
    "kernelspec": {
      "display_name": "Python 3",
      "name": "python3"
    },
    "language_info": {
      "name": "python",
      "version": "3.8.18"
    }
  },
  "nbformat": 4,
  "nbformat_minor": 0
}
